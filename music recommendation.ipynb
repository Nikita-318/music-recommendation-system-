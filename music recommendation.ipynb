{
 "cells": [
  {
   "cell_type": "code",
   "execution_count": 1,
   "id": "9947f1ee-63d8-4309-9fbf-9e4625b069da",
   "metadata": {},
   "outputs": [],
   "source": [
    "import pandas as pd\n",
    "import numpy as np"
   ]
  },
  {
   "cell_type": "code",
   "execution_count": 2,
   "id": "3464308e-8aeb-4476-82e0-593d44eb5cc1",
   "metadata": {},
   "outputs": [
    {
     "data": {
      "text/html": [
       "<div>\n",
       "<style scoped>\n",
       "    .dataframe tbody tr th:only-of-type {\n",
       "        vertical-align: middle;\n",
       "    }\n",
       "\n",
       "    .dataframe tbody tr th {\n",
       "        vertical-align: top;\n",
       "    }\n",
       "\n",
       "    .dataframe thead th {\n",
       "        text-align: right;\n",
       "    }\n",
       "</style>\n",
       "<table border=\"1\" class=\"dataframe\">\n",
       "  <thead>\n",
       "    <tr style=\"text-align: right;\">\n",
       "      <th></th>\n",
       "      <th>artist</th>\n",
       "      <th>song</th>\n",
       "      <th>link</th>\n",
       "      <th>text</th>\n",
       "    </tr>\n",
       "  </thead>\n",
       "  <tbody>\n",
       "    <tr>\n",
       "      <th>0</th>\n",
       "      <td>ABBA</td>\n",
       "      <td>Ahe's My Kind Of Girl</td>\n",
       "      <td>/a/abba/ahes+my+kind+of+girl_20598417.html</td>\n",
       "      <td>Look at her face, it's a wonderful face  \\nAnd...</td>\n",
       "    </tr>\n",
       "    <tr>\n",
       "      <th>1</th>\n",
       "      <td>ABBA</td>\n",
       "      <td>Andante, Andante</td>\n",
       "      <td>/a/abba/andante+andante_20002708.html</td>\n",
       "      <td>Take it easy with me, please  \\nTouch me gentl...</td>\n",
       "    </tr>\n",
       "    <tr>\n",
       "      <th>2</th>\n",
       "      <td>ABBA</td>\n",
       "      <td>As Good As New</td>\n",
       "      <td>/a/abba/as+good+as+new_20003033.html</td>\n",
       "      <td>I'll never know why I had to go  \\nWhy I had t...</td>\n",
       "    </tr>\n",
       "  </tbody>\n",
       "</table>\n",
       "</div>"
      ],
      "text/plain": [
       "  artist                   song                                        link  \\\n",
       "0   ABBA  Ahe's My Kind Of Girl  /a/abba/ahes+my+kind+of+girl_20598417.html   \n",
       "1   ABBA       Andante, Andante       /a/abba/andante+andante_20002708.html   \n",
       "2   ABBA         As Good As New        /a/abba/as+good+as+new_20003033.html   \n",
       "\n",
       "                                                text  \n",
       "0  Look at her face, it's a wonderful face  \\nAnd...  \n",
       "1  Take it easy with me, please  \\nTouch me gentl...  \n",
       "2  I'll never know why I had to go  \\nWhy I had t...  "
      ]
     },
     "execution_count": 2,
     "metadata": {},
     "output_type": "execute_result"
    }
   ],
   "source": [
    "df = pd.read_csv('songdata.csv')\n",
    "df.head(3)\n"
   ]
  },
  {
   "cell_type": "code",
   "execution_count": 3,
   "id": "889b0034-dfc2-4b13-abd2-16b42c85902e",
   "metadata": {},
   "outputs": [
    {
     "data": {
      "text/plain": [
       "(57650, 4)"
      ]
     },
     "execution_count": 3,
     "metadata": {},
     "output_type": "execute_result"
    }
   ],
   "source": [
    "df.shape"
   ]
  },
  {
   "cell_type": "code",
   "execution_count": 4,
   "id": "fda3bc73-0944-4607-97b2-e4cf9ced3f7f",
   "metadata": {},
   "outputs": [],
   "source": [
    "df = df.sample(n=5000).drop('link', axis=1).reset_index(drop=True)"
   ]
  },
  {
   "cell_type": "code",
   "execution_count": 5,
   "id": "3cda7cab-b6eb-4a8c-b529-6f9fb6ae353a",
   "metadata": {},
   "outputs": [
    {
     "data": {
      "text/plain": [
       "(5000, 3)"
      ]
     },
     "execution_count": 5,
     "metadata": {},
     "output_type": "execute_result"
    }
   ],
   "source": [
    "df.shape"
   ]
  },
  {
   "cell_type": "code",
   "execution_count": 6,
   "id": "05f3fbc3-c52e-4fd2-b763-4bd8816feb9c",
   "metadata": {},
   "outputs": [],
   "source": [
    "#cleaing"
   ]
  },
  {
   "cell_type": "code",
   "execution_count": 7,
   "id": "ddebaa2b-959a-4a2f-bd63-86754a2d0789",
   "metadata": {},
   "outputs": [
    {
     "data": {
      "text/plain": [
       "\"I Can't Lie\""
      ]
     },
     "execution_count": 7,
     "metadata": {},
     "output_type": "execute_result"
    }
   ],
   "source": [
    "df['song'][0]"
   ]
  },
  {
   "cell_type": "code",
   "execution_count": 8,
   "id": "d8014077-1096-4ec8-ab03-a2f3a0db2bcf",
   "metadata": {},
   "outputs": [
    {
     "data": {
      "text/plain": [
       "\"I must have been a fool  \\nTo love you so hard for so long  \\nSo much stronger than before  \\nBut so much harder to move on  \\nAnd now the bitter chill of the winter  \\nStill blows through me like a plague  \\nOnly to wake up with an empty bed  \\nOn a perfect summer day  \\n  \\nMy world just feels so cold  \\nAnd you find yourself walking down  \\nThe wrong side of the road  \\nOw!  \\n  \\nI can't lie your on my mind, stuck inside my head  \\nI wanna feel your heart beat for me instead, yeah  \\nI just die so much inside now that you're not there  \\nI wanna feel your heart beat like yesterday  \\n  \\nI never did my best to express how I really felt  \\nAnd now that I know exactly what I want  \\nYou found somebody else  \\n  \\nOoh my world just feels so cold  \\nAnd you find yourself walking on  \\nThe wrong side of the road  \\nOh yeah  \\n  \\nI can't lie your on my mind stuck inside my head  \\nI wanna feel your heart beat for me instead, yeah  \\nI just die so much inside now that you're not there  \\nI wanna feel your heart beat like yesterday  \\n  \\n(Ah la la la la la la la, yeah)  \\n(Ah la la la la la la la, yeah)  \\n(Ah la la la la la la la, oh)  \\n(Ah la la la la la la la, yeah)  \\n  \\nMy world just feels so cold  \\nAnd I find myself thinking about the things I could have done  \\nAnd it warms my soul when you let me know  \\nI'm not the only one  \\n  \\nI can't lie your on my mind, stuck inside my head  \\nI wanna feel your heart beat for me instead, yeah  \\nI just die so much inside now that you're not there  \\nI wanna feel your heart beat like yesterday  \\n  \\nI can't lie your on my mind, stuck inside my head  \\nI wanna feel your heart beat for me instead, yeah  \\nI just die so much inside now that you're not there  \\nI wanna feel your heart beat like yesterday  \\n  \\n(I can't lie your on my mind, stuck inside my head)  \\n(I wanna feel your heart beat for me instead, yeah)  \\n(I just die so much inside now that you're not there)  \\n(I wanna feel your heart beat like yesterday)\\n\\n\""
      ]
     },
     "execution_count": 8,
     "metadata": {},
     "output_type": "execute_result"
    }
   ],
   "source": [
    "df['text'][0]"
   ]
  },
  {
   "cell_type": "code",
   "execution_count": 9,
   "id": "b73d6f8e-0a02-47a8-a735-eceea44c3970",
   "metadata": {},
   "outputs": [],
   "source": [
    "df['text'] = df['text'].str.lower().replace(r'[^\\w\\s]','').replace(r'\\n',' ', regex=True)"
   ]
  },
  {
   "cell_type": "code",
   "execution_count": 10,
   "id": "82340d46-b4fc-4ee9-ba3c-b91ef08fce67",
   "metadata": {},
   "outputs": [
    {
     "data": {
      "text/plain": [
       "\"i must have been a fool   to love you so hard for so long   so much stronger than before   but so much harder to move on   and now the bitter chill of the winter   still blows through me like a plague   only to wake up with an empty bed   on a perfect summer day      my world just feels so cold   and you find yourself walking down   the wrong side of the road   ow!      i can't lie your on my mind, stuck inside my head   i wanna feel your heart beat for me instead, yeah   i just die so much inside now that you're not there   i wanna feel your heart beat like yesterday      i never did my best to express how i really felt   and now that i know exactly what i want   you found somebody else      ooh my world just feels so cold   and you find yourself walking on   the wrong side of the road   oh yeah      i can't lie your on my mind stuck inside my head   i wanna feel your heart beat for me instead, yeah   i just die so much inside now that you're not there   i wanna feel your heart beat like yesterday      (ah la la la la la la la, yeah)   (ah la la la la la la la, yeah)   (ah la la la la la la la, oh)   (ah la la la la la la la, yeah)      my world just feels so cold   and i find myself thinking about the things i could have done   and it warms my soul when you let me know   i'm not the only one      i can't lie your on my mind, stuck inside my head   i wanna feel your heart beat for me instead, yeah   i just die so much inside now that you're not there   i wanna feel your heart beat like yesterday      i can't lie your on my mind, stuck inside my head   i wanna feel your heart beat for me instead, yeah   i just die so much inside now that you're not there   i wanna feel your heart beat like yesterday      (i can't lie your on my mind, stuck inside my head)   (i wanna feel your heart beat for me instead, yeah)   (i just die so much inside now that you're not there)   (i wanna feel your heart beat like yesterday)  \""
      ]
     },
     "execution_count": 10,
     "metadata": {},
     "output_type": "execute_result"
    }
   ],
   "source": [
    "df['text'][0]"
   ]
  },
  {
   "cell_type": "code",
   "execution_count": 11,
   "id": "7642e438-255b-4f62-a527-facb64158b3b",
   "metadata": {},
   "outputs": [],
   "source": [
    "import nltk\n",
    "from nltk.stem.porter import PorterStemmer\n",
    "ps = PorterStemmer()\n",
    "\n",
    "def tokenization(txt):\n",
    "    tokens = nltk.word_tokenize(txt)\n",
    "    stemming = [ps.stem(w) for w in tokens]\n",
    "    return \" \".join(stemming)"
   ]
  },
  {
   "cell_type": "code",
   "execution_count": 12,
   "id": "18495e73-a98a-4416-9f22-0bba83c589cf",
   "metadata": {},
   "outputs": [],
   "source": [
    "# tokenization('this is my loving loved lovly ')"
   ]
  },
  {
   "cell_type": "code",
   "execution_count": 13,
   "id": "d91484ae-83a6-471c-8c4d-c4ee93b68fba",
   "metadata": {},
   "outputs": [],
   "source": [
    "df['text'] = df['text'].apply(lambda x: tokenization(x))"
   ]
  },
  {
   "cell_type": "code",
   "execution_count": 14,
   "id": "17e62831-33f5-4cf9-a761-26ac4ad6d967",
   "metadata": {},
   "outputs": [
    {
     "data": {
      "text/plain": [
       "0       i must have been a fool to love you so hard fo...\n",
       "1       all is loneli loneli here for me loneli here f...\n",
       "2       i can hear her heart beat for a thousand mile ...\n",
       "3       imagin there 's no countri , it is n't hard to...\n",
       "4       the night ha a thousand eye and they 're all o...\n",
       "                              ...                        \n",
       "4995    nobodi like you everyon left you they 're all ...\n",
       "4996    [ intro ] la , la , la , la , la , la , la la ...\n",
       "4997    roll down the gangway so they 'll see that it ...\n",
       "4998    excus for our money is that religion one more ...\n",
       "4999    everyday , everyday with you everi littl thing...\n",
       "Name: text, Length: 5000, dtype: object"
      ]
     },
     "execution_count": 14,
     "metadata": {},
     "output_type": "execute_result"
    }
   ],
   "source": [
    "df['text']"
   ]
  },
  {
   "cell_type": "code",
   "execution_count": 15,
   "id": "5eb84b8d-94fe-4acc-83cb-b2cc2d8df7a5",
   "metadata": {},
   "outputs": [],
   "source": [
    "from sklearn.feature_extraction.text import TfidfVectorizer\n",
    "from sklearn.metrics.pairwise import cosine_similarity"
   ]
  },
  {
   "cell_type": "code",
   "execution_count": 16,
   "id": "3fe3229c-4102-440c-af2a-a69dba1089a6",
   "metadata": {},
   "outputs": [],
   "source": [
    "tfid=TfidfVectorizer(stop_words='english')\n",
    "matrix=tfid.fit_transform(df['text'])"
   ]
  },
  {
   "cell_type": "code",
   "execution_count": 17,
   "id": "6c92bf7e-5cb8-4414-9082-d8e933294e7e",
   "metadata": {},
   "outputs": [
    {
     "data": {
      "text/plain": [
       "(5000, 18046)"
      ]
     },
     "execution_count": 17,
     "metadata": {},
     "output_type": "execute_result"
    }
   ],
   "source": [
    "matrix.shape"
   ]
  },
  {
   "cell_type": "code",
   "execution_count": 18,
   "id": "7b6f924b-c299-4559-a6e3-4eddde03c1f4",
   "metadata": {},
   "outputs": [],
   "source": [
    "similarity=cosine_similarity(matrix)"
   ]
  },
  {
   "cell_type": "code",
   "execution_count": 19,
   "id": "e8ea6faf-f0f7-4263-879c-0f599bd6f56f",
   "metadata": {},
   "outputs": [
    {
     "data": {
      "text/plain": [
       "array([1.        , 0.01228242, 0.02728304, ..., 0.02007508, 0.00116358,\n",
       "       0.04550842])"
      ]
     },
     "execution_count": 19,
     "metadata": {},
     "output_type": "execute_result"
    }
   ],
   "source": [
    "similarity[0]"
   ]
  },
  {
   "cell_type": "code",
   "execution_count": 20,
   "id": "6704b1a4-a94f-43dc-9f08-2e50dedfd722",
   "metadata": {},
   "outputs": [
    {
     "data": {
      "text/plain": [
       "\"I Can't Lie\""
      ]
     },
     "execution_count": 20,
     "metadata": {},
     "output_type": "execute_result"
    }
   ],
   "source": [
    "df['song'][0]"
   ]
  },
  {
   "cell_type": "code",
   "execution_count": 21,
   "id": "f44763df-4bf6-413e-be1c-7e451a2abf26",
   "metadata": {},
   "outputs": [
    {
     "data": {
      "text/html": [
       "<div>\n",
       "<style scoped>\n",
       "    .dataframe tbody tr th:only-of-type {\n",
       "        vertical-align: middle;\n",
       "    }\n",
       "\n",
       "    .dataframe tbody tr th {\n",
       "        vertical-align: top;\n",
       "    }\n",
       "\n",
       "    .dataframe thead th {\n",
       "        text-align: right;\n",
       "    }\n",
       "</style>\n",
       "<table border=\"1\" class=\"dataframe\">\n",
       "  <thead>\n",
       "    <tr style=\"text-align: right;\">\n",
       "      <th></th>\n",
       "      <th>artist</th>\n",
       "      <th>song</th>\n",
       "      <th>text</th>\n",
       "    </tr>\n",
       "  </thead>\n",
       "  <tbody>\n",
       "  </tbody>\n",
       "</table>\n",
       "</div>"
      ],
      "text/plain": [
       "Empty DataFrame\n",
       "Columns: [artist, song, text]\n",
       "Index: []"
      ]
     },
     "execution_count": 21,
     "metadata": {},
     "output_type": "execute_result"
    }
   ],
   "source": [
    "df[df['song']==' ']"
   ]
  },
  {
   "cell_type": "code",
   "execution_count": 22,
   "id": "f9d64937-f5e1-4a08-9c5e-6ec0c7d5f698",
   "metadata": {},
   "outputs": [],
   "source": [
    "def recommendation(song_df):\n",
    "    idx = df[df['song'] == song_df].index[0]\n",
    "    distances = sorted(list(enumerate(similarity[idx])),reverse=False,key=lambda x:x[1])\n",
    "    \n",
    "    songs = []\n",
    "    for m_id in distances[1:21]:\n",
    "        songs.append(df.iloc[m_id[0]].song)\n",
    "        \n",
    "    return songs"
   ]
  },
  {
   "cell_type": "code",
   "execution_count": 25,
   "id": "57840240-062f-43ac-93f6-9aba4ff3a1e7",
   "metadata": {},
   "outputs": [],
   "source": [
    "# recommendation('Dance With Me (with Mommy V.)')"
   ]
  },
  {
   "cell_type": "code",
   "execution_count": 26,
   "id": "5a2aaf90-a911-4d74-a709-1c26efae119f",
   "metadata": {},
   "outputs": [],
   "source": [
    "import pickle\n",
    "pickle.dump(df,open('df.pkl','wb'))\n",
    "pickle.dump(similarity,open('similarity.pkl','wb'))"
   ]
  },
  {
   "cell_type": "code",
   "execution_count": null,
   "id": "50d6fe82-bc30-4188-bd79-7ea55a86e5f9",
   "metadata": {},
   "outputs": [],
   "source": []
  }
 ],
 "metadata": {
  "kernelspec": {
   "display_name": "base",
   "language": "python",
   "name": "python3"
  },
  "language_info": {
   "codemirror_mode": {
    "name": "ipython",
    "version": 3
   },
   "file_extension": ".py",
   "mimetype": "text/x-python",
   "name": "python",
   "nbconvert_exporter": "python",
   "pygments_lexer": "ipython3",
   "version": "3.11.5"
  }
 },
 "nbformat": 4,
 "nbformat_minor": 5
}
